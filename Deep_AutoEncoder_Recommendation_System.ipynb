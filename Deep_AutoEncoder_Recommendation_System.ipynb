{
  "cells": [
    {
      "cell_type": "code",
      "execution_count": 1,
      "metadata": {
        "id": "kh2Gwv8ChbLf"
      },
      "outputs": [],
      "source": [
        "import pandas as pd\n",
        "import numpy as np\n",
        "import torch\n",
        "import torch.nn as nn\n",
        "from torch.utils.data import Dataset, DataLoader\n",
        "from torchvision import transforms\n",
        "import matplotlib.pyplot as plt"
      ]
    },
    {
      "cell_type": "code",
      "execution_count": 2,
      "metadata": {
        "id": "UPgUadD1keKy"
      },
      "outputs": [],
      "source": [
        "class TrainDataset(Dataset):\n",
        "    def __init__(self, train_file, transform=None):\n",
        "        self.data = pd.read_csv(train_file)\n",
        "        self.data = self.data.iloc[:,1:]\n",
        "        self.transform = transform\n",
        "        if transform is not None:\n",
        "            self.data = self.transform(np.array(self.data))\n",
        "\n",
        "    def __len__(self):\n",
        "        return len(self.data[0])\n",
        "\n",
        "    def __getitem__(self, ind):\n",
        "        user_vector = self.data.data[0][ind]\n",
        "        return user_vector"
      ]
    },
    {
      "cell_type": "code",
      "execution_count": 3,
      "metadata": {
        "id": "bsPGG6LZkjiC"
      },
      "outputs": [],
      "source": [
        "class TestDataset(Dataset):\n",
        "    def __init__(self, test_file, transform=None):\n",
        "        self.data = pd.read_csv(test_file)\n",
        "        self.data = self.data.iloc[:,1:]\n",
        "        self.transform = transform\n",
        "        if transform is not None:\n",
        "            self.data = self.transform(np.array(self.data))\n",
        "\n",
        "    def __len__(self):\n",
        "        return len(self.data[0])\n",
        "\n",
        "    def __getitem__(self, ind):\n",
        "        user_vector = self.data.data[0][ind]\n",
        "        return user_vector"
      ]
    },
    {
      "cell_type": "code",
      "execution_count": 4,
      "metadata": {
        "id": "pGkGrfvpknGO"
      },
      "outputs": [],
      "source": [
        "def prepare_train_validation_movielens_step1():\n",
        "    rat = pd.read_csv('ratings.csv')\n",
        "    mov = pd.read_csv('movies.csv')\n",
        "    df_combined = pd.merge(rat, mov, on = 'movieId')\n",
        "    print(rat.describe())\n",
        "    ts = rat['timestamp'].quantile(0.98)\n",
        "    train_ratings = pd.DataFrame(columns=['userId','movieId','rating'])\n",
        "    validation_ratings = pd.DataFrame(columns=['userId','movieId','rating'])\n",
        "    for i in range(len(rat)):\n",
        "        if rat['timestamp'].iloc[i] <= ts:\n",
        "            train_ratings = pd.concat([train_ratings,pd.DataFrame([{'userId':rat['userId'].iloc[i],'movieId':rat ['movieId'].iloc[i],'rating':rat['rating'].iloc[i]}])])\n",
        "            validation_ratings = pd.concat([validation_ratings,pd.DataFrame([{'userId':rat['userId'].iloc[i],'movieId':rat['movieId'].iloc[i],'rating':rat['rating'].iloc[i]}])])\n",
        "        else:\n",
        "            validation_ratings = pd.concat([validation_ratings,pd.DataFrame([{'userId':rat['userId'].iloc[i],'movieId':rat['movieId'].iloc[i],'rating':rat['rating'].iloc[i]}])])\n",
        "        if i%10000 == 0:\n",
        "            print(i, \"Completed\")\n",
        "    print(len(train_ratings))\n",
        "    print(len(validation_ratings))\n",
        "    # Remove users in validation set those are not present in Training Set\n",
        "    train_users = train_ratings['userId'].unique()\n",
        "    users_not_in_train_set = []\n",
        "\n",
        "    for i in range(1,611):\n",
        "        if i in train_users:\n",
        "            continue\n",
        "        else:\n",
        "            users_not_in_train_set.append(i)\n",
        "\n",
        "    for i in users_not_in_train_set:\n",
        "        validation_ratings = validation_ratings[validation_ratings['userId']!=i]\n",
        "\n",
        "    validation_ratings.reset_index(drop=True)\n",
        "\n",
        "    print(len(train_ratings['movieId'].unique()))\n",
        "    print(len(validation_ratings['movieId'].unique()))\n",
        "    # Remove Movies that are not in the Train Set\n",
        "    validation_movies = validation_ratings['movieId'].unique()\n",
        "    train_movies = train_ratings['movieId'].unique()\n",
        "    movies_not_in_train_set = []\n",
        "\n",
        "    for i in validation_movies:\n",
        "        if i in train_movies:\n",
        "            continue\n",
        "        else:\n",
        "            movies_not_in_train_set.append(i)\n",
        "\n",
        "    for i in movies_not_in_train_set:\n",
        "        validation_ratings = validation_ratings[validation_ratings['movieId']!=i]\n",
        "\n",
        "    validation_ratings.reset_index(drop=True)\n",
        "    print('Train Users: ', train_ratings['userId'].nunique())\n",
        "    print('Validation Users: ',validation_ratings['userId'].nunique())\n",
        "    print('Train Movies: ',train_ratings['movieId'].nunique())\n",
        "    print('Validation Movies: ',validation_ratings['movieId'].nunique())\n",
        "    train_ratings.to_csv(\"train_ratings.csv\")\n",
        "    validation_ratings.to_csv(\"validation_ratings.csv\")\n"
      ]
    },
    {
      "cell_type": "code",
      "execution_count": 5,
      "metadata": {
        "id": "fZyx-wkAkukd"
      },
      "outputs": [],
      "source": [
        "def prepare_traintest_movielens_step2():\n",
        "    tr_ratings = pd.read_csv('train_ratings.csv')\n",
        "    val_ratings = pd.read_csv('validation_ratings.csv')\n",
        "    train_dataset = tr_ratings.pivot_table(index = 'userId', columns = 'movieId', values = 'rating')\n",
        "    train_dataset.fillna(0, inplace=True)\n",
        "    print(train_dataset.head(10))\n",
        "    test_dataset = val_ratings.pivot_table(index='userId', columns='movieId', values='rating')\n",
        "    test_dataset.fillna(0, inplace=True)\n",
        "    print(test_dataset.head(10))\n",
        "    train_dataset.to_csv('train.csv')\n",
        "    test_dataset.to_csv('test.csv')"
      ]
    },
    {
      "cell_type": "code",
      "execution_count": 6,
      "metadata": {
        "id": "8VAV7k3XkxW2"
      },
      "outputs": [],
      "source": [
        "def get_traintestloaders():\n",
        "    transformations = transforms.Compose([transforms.ToTensor()])\n",
        "    train_dat = TrainDataset('train.csv', transformations)\n",
        "    test_dat = TestDataset('test.csv', transformations)\n",
        "    train_loader = DataLoader(dataset=train_dat, batch_size = 128, shuffle=True, num_workers = 1)\n",
        "    test_loader = DataLoader(dataset=test_dat, batch_size=128, shuffle=True, num_workers=1)\n",
        "    return train_loader, test_loader"
      ]
    },
    {
      "cell_type": "code",
      "execution_count": 7,
      "metadata": {
        "id": "m4EFP7xDk7vS"
      },
      "outputs": [],
      "source": [
        "class MSELoss_with_Mask(nn.Module):\n",
        "    def __init__(self):\n",
        "        super(MSELoss_with_Mask,self).__init__()\n",
        "\n",
        "    def forward(self,inputs, targets):\n",
        "        # Masking into a vector of 1's and 0's.\n",
        "        mask = (targets!=0)\n",
        "        mask = mask.float()\n",
        "        # Actual number of ratings.\n",
        "        # Take max to avoid division by zero while calculating loss.\n",
        "        other = torch.Tensor([1.0])\n",
        "        other = other.cuda()\n",
        "        number_ratings = torch.max(torch.sum(mask),other)\n",
        "        error = torch.sum(torch.mul(mask,torch.mul((targets-inputs),(targets-inputs))))\n",
        "        loss = error.div(number_ratings)\n",
        "        return loss[0]"
      ]
    },
    {
      "cell_type": "code",
      "execution_count": 8,
      "metadata": {
        "id": "IXJ7DMsKk-ey"
      },
      "outputs": [],
      "source": [
        "import torch.nn.functional as F\n",
        "import torch.nn.init as init"
      ]
    },
    {
      "cell_type": "code",
      "execution_count": 9,
      "metadata": {
        "id": "giULADVDlCK3"
      },
      "outputs": [],
      "source": [
        "class AutoEncoder(nn.Module):\n",
        "    def __init__(self):\n",
        "        super(AutoEncoder, self).__init__()\n",
        "        \n",
        "        self.encoder = nn.Sequential(\n",
        "            nn.Linear(9559, 512),\n",
        "            nn.ReLU(),\n",
        "            nn.Linear(512, 512),\n",
        "            nn.ReLU(),\n",
        "            nn.Linear(512, 1024),\n",
        "            nn.ReLU()\n",
        "        )\n",
        "        self.decoder = nn.Sequential(\n",
        "            nn.Linear(1024, 512),\n",
        "            nn.ReLU(),\n",
        "            nn.Linear(512, 512),\n",
        "            nn.ReLU(),\n",
        "            nn.Linear(512, 9559)\n",
        "        )\n",
        "\n",
        "    def encode(self,x):\n",
        "       \n",
        "        x = self.encoder(x)\n",
        "        return x\n",
        "    def decode(self,x):\n",
        "        \n",
        "        x = self.decoder(x)\n",
        "        return x\n",
        "\n",
        "    def forward(self,x):\n",
        "        # Forward Pass\n",
        "        return self.decode(self.encode(x))"
      ]
    },
    {
      "cell_type": "code",
      "execution_count": 10,
      "metadata": {
        "id": "ntm07S-MlFJn"
      },
      "outputs": [],
      "source": [
        "import torch.optim as optim"
      ]
    },
    {
      "cell_type": "code",
      "execution_count": 11,
      "metadata": {
        "id": "CZFVQ4U5lINN"
      },
      "outputs": [],
      "source": [
        "def train(model, criterion, optimizer, train_dl, test_dl, num_epochs=50):\n",
        "    \n",
        "    train_losses = []\n",
        "    val_losses = []\n",
        "\n",
        "    for epoch in range(num_epochs):\n",
        "        # Training phase\n",
        "        model.train()\n",
        "        train_loss = 0\n",
        "        for inputs in train_dl:\n",
        "            inputs = inputs.float().cuda()\n",
        "            optimizer.zero_grad()\n",
        "            outputs = model(inputs)\n",
        "            loss = criterion(outputs, inputs)\n",
        "            loss.backward()\n",
        "            optimizer.step()\n",
        "            train_loss += loss.item()\n",
        "\n",
        "        avg_train_loss = train_loss / len(train_dl)\n",
        "        train_losses.append(avg_train_loss)\n",
        "\n",
        "        model.eval()\n",
        "        val_loss = 0\n",
        "        with torch.no_grad():\n",
        "            for inputs in test_dl:\n",
        "                inputs = inputs.float().cuda()\n",
        "                outputs = model(inputs)\n",
        "                loss = criterion(outputs, inputs)\n",
        "                val_loss += loss.item()\n",
        "\n",
        "        avg_val_loss = val_loss / len(test_dl)\n",
        "        val_losses.append(avg_val_loss)\n",
        "\n",
        "        print(f\"Epoch [{epoch+1}/{num_epochs}], Train Loss: {avg_train_loss:.4f}, Validation Loss: {avg_val_loss:.4f}\")\n",
        "    return train_losses, val_losses"
      ]
    },
    {
      "cell_type": "code",
      "execution_count": 12,
      "metadata": {
        "id": "QnF9-L_clLJv"
      },
      "outputs": [],
      "source": [
        "def main():\n",
        "    prepare_train_validation_movielens_step1()\n",
        "    prepare_traintest_movielens_step2()\n",
        "    train_loader, test_loader = get_traintestloaders()\n",
        "    #encoder_layers_sizes = [9559, 512, 512, 1024]\n",
        "    model = AutoEncoder()\n",
        "    model = model.cuda()\n",
        "    criterion = MSELoss_with_Mask()\n",
        "    criterion = criterion.cuda()\n",
        "    optimizer = optim.Adam(model.parameters(), lr=0.001)\n",
        "    train_losses, val_losses = train(model, criterion, optimizer, train_loader, test_loader, 40)\n",
        "    # Plot the loss function for both the training and validation\n",
        "    plt.figure(figsize=(10, 5))\n",
        "    plt.plot(train_losses, label='Training Loss')\n",
        "    plt.plot(val_losses, label='Validation Loss')\n",
        "    plt.xlabel('Epoch')\n",
        "    plt.ylabel('Loss')\n",
        "    plt.title('Training and Validation Loss Over Epochs')\n",
        "    plt.legend()\n",
        "    plt.show()\n",
        "    pass"
      ]
    },
    {
      "cell_type": "code",
      "execution_count": 15,
      "metadata": {
        "colab": {
          "base_uri": "https://localhost:8080/",
          "height": 1000
        },
        "id": "H_FULa2NlO3n",
        "outputId": "090a3806-1dad-460e-eb06-48805577e9e8"
      },
      "outputs": [
        {
          "name": "stdout",
          "output_type": "stream",
          "text": [
            "              userId        movieId         rating     timestamp\n",
            "count  100836.000000  100836.000000  100836.000000  1.008360e+05\n",
            "mean      326.127564   19435.295718       3.501557  1.205946e+09\n",
            "std       182.618491   35530.987199       1.042529  2.162610e+08\n",
            "min         1.000000       1.000000       0.500000  8.281246e+08\n",
            "25%       177.000000    1199.000000       3.000000  1.019124e+09\n",
            "50%       325.000000    2991.000000       3.500000  1.186087e+09\n",
            "75%       477.000000    8122.000000       4.000000  1.435994e+09\n",
            "max       610.000000  193609.000000       5.000000  1.537799e+09\n",
            "0 Completed\n"
          ]
        },
        {
          "name": "stderr",
          "output_type": "stream",
          "text": [
            "<ipython-input-4-8af61a72a507>:11: FutureWarning: The behavior of DataFrame concatenation with empty or all-NA entries is deprecated. In a future version, this will no longer exclude empty or all-NA columns when determining the result dtypes. To retain the old behavior, exclude the relevant entries before the concat operation.\n",
            "  train_ratings = pd.concat([train_ratings,pd.DataFrame([{'userId':rat['userId'].iloc[i],'movieId':rat ['movieId'].iloc[i],'rating':rat['rating'].iloc[i]}])])\n",
            "<ipython-input-4-8af61a72a507>:12: FutureWarning: The behavior of DataFrame concatenation with empty or all-NA entries is deprecated. In a future version, this will no longer exclude empty or all-NA columns when determining the result dtypes. To retain the old behavior, exclude the relevant entries before the concat operation.\n",
            "  validation_ratings = pd.concat([validation_ratings,pd.DataFrame([{'userId':rat['userId'].iloc[i],'movieId':rat['movieId'].iloc[i],'rating':rat['rating'].iloc[i]}])])\n"
          ]
        },
        {
          "name": "stdout",
          "output_type": "stream",
          "text": [
            "10000 Completed\n",
            "20000 Completed\n",
            "30000 Completed\n",
            "40000 Completed\n",
            "50000 Completed\n",
            "60000 Completed\n",
            "70000 Completed\n",
            "80000 Completed\n",
            "90000 Completed\n",
            "100000 Completed\n",
            "98819\n",
            "100836\n",
            "9559\n",
            "9608\n",
            "Train Users:  595\n",
            "Validation Users:  595\n",
            "Train Movies:  9559\n",
            "Validation Movies:  9559\n",
            "movieId  1       2       3       4       5       6       7       8       \\\n",
            "userId                                                                    \n",
            "1           4.0     0.0     4.0     0.0     0.0     4.0     0.0     0.0   \n",
            "2           0.0     0.0     0.0     0.0     0.0     0.0     0.0     0.0   \n",
            "3           0.0     0.0     0.0     0.0     0.0     0.0     0.0     0.0   \n",
            "4           0.0     0.0     0.0     0.0     0.0     0.0     0.0     0.0   \n",
            "5           4.0     0.0     0.0     0.0     0.0     0.0     0.0     0.0   \n",
            "6           0.0     4.0     5.0     3.0     5.0     4.0     4.0     3.0   \n",
            "7           4.5     0.0     0.0     0.0     0.0     0.0     0.0     0.0   \n",
            "8           0.0     4.0     0.0     0.0     0.0     0.0     0.0     0.0   \n",
            "9           0.0     0.0     0.0     0.0     0.0     0.0     0.0     0.0   \n",
            "10          0.0     0.0     0.0     0.0     0.0     0.0     0.0     0.0   \n",
            "\n",
            "movieId  9       10      ...  184349  184471  184791  185029  185031  185135  \\\n",
            "userId                   ...                                                   \n",
            "1           0.0     0.0  ...     0.0     0.0     0.0     0.0     0.0     0.0   \n",
            "2           0.0     0.0  ...     0.0     0.0     0.0     0.0     0.0     0.0   \n",
            "3           0.0     0.0  ...     0.0     0.0     0.0     0.0     0.0     0.0   \n",
            "4           0.0     0.0  ...     0.0     0.0     0.0     0.0     0.0     0.0   \n",
            "5           0.0     0.0  ...     0.0     0.0     0.0     0.0     0.0     0.0   \n",
            "6           0.0     3.0  ...     0.0     0.0     0.0     0.0     0.0     0.0   \n",
            "7           0.0     0.0  ...     0.0     0.0     0.0     0.0     0.0     0.0   \n",
            "8           0.0     2.0  ...     0.0     0.0     0.0     0.0     0.0     0.0   \n",
            "9           0.0     0.0  ...     0.0     0.0     0.0     0.0     0.0     0.0   \n",
            "10          0.0     0.0  ...     0.0     0.0     0.0     0.0     0.0     0.0   \n",
            "\n",
            "movieId  185435  187593  187595  189547  \n",
            "userId                                   \n",
            "1           0.0     0.0     0.0     0.0  \n",
            "2           0.0     0.0     0.0     0.0  \n",
            "3           0.0     0.0     0.0     0.0  \n",
            "4           0.0     0.0     0.0     0.0  \n",
            "5           0.0     0.0     0.0     0.0  \n",
            "6           0.0     0.0     0.0     0.0  \n",
            "7           0.0     0.0     0.0     0.0  \n",
            "8           0.0     0.0     0.0     0.0  \n",
            "9           0.0     0.0     0.0     0.0  \n",
            "10          0.0     0.0     0.0     0.0  \n",
            "\n",
            "[10 rows x 9559 columns]\n",
            "movieId  1       2       3       4       5       6       7       8       \\\n",
            "userId                                                                    \n",
            "1           4.0     0.0     4.0     0.0     0.0     4.0     0.0     0.0   \n",
            "2           0.0     0.0     0.0     0.0     0.0     0.0     0.0     0.0   \n",
            "3           0.0     0.0     0.0     0.0     0.0     0.0     0.0     0.0   \n",
            "4           0.0     0.0     0.0     0.0     0.0     0.0     0.0     0.0   \n",
            "5           4.0     0.0     0.0     0.0     0.0     0.0     0.0     0.0   \n",
            "6           0.0     4.0     5.0     3.0     5.0     4.0     4.0     3.0   \n",
            "7           4.5     0.0     0.0     0.0     0.0     0.0     0.0     0.0   \n",
            "8           0.0     4.0     0.0     0.0     0.0     0.0     0.0     0.0   \n",
            "9           0.0     0.0     0.0     0.0     0.0     0.0     0.0     0.0   \n",
            "10          0.0     0.0     0.0     0.0     0.0     0.0     0.0     0.0   \n",
            "\n",
            "movieId  9       10      ...  184349  184471  184791  185029  185031  185135  \\\n",
            "userId                   ...                                                   \n",
            "1           0.0     0.0  ...     0.0     0.0     0.0     0.0     0.0     0.0   \n",
            "2           0.0     0.0  ...     0.0     0.0     0.0     0.0     0.0     0.0   \n",
            "3           0.0     0.0  ...     0.0     0.0     0.0     0.0     0.0     0.0   \n",
            "4           0.0     0.0  ...     0.0     0.0     0.0     0.0     0.0     0.0   \n",
            "5           0.0     0.0  ...     0.0     0.0     0.0     0.0     0.0     0.0   \n",
            "6           0.0     3.0  ...     0.0     0.0     0.0     0.0     0.0     0.0   \n",
            "7           0.0     0.0  ...     0.0     0.0     0.0     0.0     0.0     0.0   \n",
            "8           0.0     2.0  ...     0.0     0.0     0.0     0.0     0.0     0.0   \n",
            "9           0.0     0.0  ...     0.0     0.0     0.0     0.0     0.0     0.0   \n",
            "10          0.0     0.0  ...     0.0     0.0     0.0     0.0     0.0     0.0   \n",
            "\n",
            "movieId  185435  187593  187595  189547  \n",
            "userId                                   \n",
            "1           0.0     0.0     0.0     0.0  \n",
            "2           0.0     0.0     0.0     0.0  \n",
            "3           0.0     0.0     0.0     0.0  \n",
            "4           0.0     0.0     0.0     0.0  \n",
            "5           0.0     0.0     0.0     0.0  \n",
            "6           0.0     0.0     0.0     0.0  \n",
            "7           0.0     0.0     0.0     0.0  \n",
            "8           0.0     0.0     0.0     0.0  \n",
            "9           0.0     0.0     0.0     0.0  \n",
            "10          0.0     0.0     0.0     0.0  \n",
            "\n",
            "[10 rows x 9559 columns]\n",
            "Epoch [1/40], Train Loss: 11.9360, Validation Loss: 8.4577\n",
            "Epoch [2/40], Train Loss: 9.6584, Validation Loss: 9.6010\n",
            "Epoch [3/40], Train Loss: 9.2192, Validation Loss: 5.5006\n",
            "Epoch [4/40], Train Loss: 7.4017, Validation Loss: 7.5849\n",
            "Epoch [5/40], Train Loss: 7.1912, Validation Loss: 3.9651\n",
            "Epoch [6/40], Train Loss: 4.5653, Validation Loss: 3.8271\n",
            "Epoch [7/40], Train Loss: 4.4694, Validation Loss: 3.1979\n",
            "Epoch [8/40], Train Loss: 3.2317, Validation Loss: 2.4625\n",
            "Epoch [9/40], Train Loss: 2.5745, Validation Loss: 2.1775\n",
            "Epoch [10/40], Train Loss: 2.2261, Validation Loss: 1.9457\n",
            "Epoch [11/40], Train Loss: 1.8434, Validation Loss: 1.6810\n",
            "Epoch [12/40], Train Loss: 1.6031, Validation Loss: 1.4739\n",
            "Epoch [13/40], Train Loss: 1.4503, Validation Loss: 1.2882\n",
            "Epoch [14/40], Train Loss: 1.3022, Validation Loss: 1.1410\n",
            "Epoch [15/40], Train Loss: 1.1434, Validation Loss: 1.0776\n",
            "Epoch [16/40], Train Loss: 1.0654, Validation Loss: 0.9577\n",
            "Epoch [17/40], Train Loss: 0.9697, Validation Loss: 0.9141\n",
            "Epoch [18/40], Train Loss: 0.9101, Validation Loss: 0.8618\n",
            "Epoch [19/40], Train Loss: 0.8469, Validation Loss: 0.7899\n",
            "Epoch [20/40], Train Loss: 0.7989, Validation Loss: 0.7745\n",
            "Epoch [21/40], Train Loss: 0.7623, Validation Loss: 0.7391\n",
            "Epoch [22/40], Train Loss: 0.7321, Validation Loss: 0.7126\n",
            "Epoch [23/40], Train Loss: 0.7273, Validation Loss: 0.7038\n",
            "Epoch [24/40], Train Loss: 0.6987, Validation Loss: 0.6965\n",
            "Epoch [25/40], Train Loss: 0.6971, Validation Loss: 0.6729\n",
            "Epoch [26/40], Train Loss: 0.7041, Validation Loss: 0.6693\n",
            "Epoch [27/40], Train Loss: 0.6816, Validation Loss: 0.6976\n",
            "Epoch [28/40], Train Loss: 0.6879, Validation Loss: 0.6840\n",
            "Epoch [29/40], Train Loss: 0.6724, Validation Loss: 0.6632\n",
            "Epoch [30/40], Train Loss: 0.6630, Validation Loss: 0.6665\n",
            "Epoch [31/40], Train Loss: 0.6672, Validation Loss: 0.6681\n",
            "Epoch [32/40], Train Loss: 0.6702, Validation Loss: 0.6824\n",
            "Epoch [33/40], Train Loss: 0.6821, Validation Loss: 0.6613\n",
            "Epoch [34/40], Train Loss: 0.6700, Validation Loss: 0.6541\n",
            "Epoch [35/40], Train Loss: 0.6680, Validation Loss: 0.6502\n",
            "Epoch [36/40], Train Loss: 0.6578, Validation Loss: 0.6425\n",
            "Epoch [37/40], Train Loss: 0.6500, Validation Loss: 0.6528\n",
            "Epoch [38/40], Train Loss: 0.6533, Validation Loss: 0.6568\n",
            "Epoch [39/40], Train Loss: 0.6747, Validation Loss: 0.6646\n",
            "Epoch [40/40], Train Loss: 0.6662, Validation Loss: 0.6425\n"
          ]
        },
        {
          "data": {
            "image/png": "[encoded data removed]",
            "text/plain": [
              "<Figure size 1000x500 with 1 Axes>"
            ]
          },
          "metadata": {},
          "output_type": "display_data"
        }
      ],
      "source": [
        "if __name__ == '__main__':\n",
        "    main()\n",
        "    pass"
      ]
    },
    {
      "cell_type": "code",
      "execution_count": null,
      "metadata": {
        "id": "FKZf4HszlSdn"
      },
      "outputs": [],
      "source": []
    }
  ],
  "metadata": {
    "accelerator": "GPU",
    "colab": {
      "gpuType": "T4",
      "provenance": []
    },
    "kernelspec": {
      "display_name": "pylang",
      "language": "python",
      "name": "python3"
    },
    "language_info": {
      "name": "python",
      "version": "3.10.13"
    }
  },
  "nbformat": 4,
  "nbformat_minor": 0
}
